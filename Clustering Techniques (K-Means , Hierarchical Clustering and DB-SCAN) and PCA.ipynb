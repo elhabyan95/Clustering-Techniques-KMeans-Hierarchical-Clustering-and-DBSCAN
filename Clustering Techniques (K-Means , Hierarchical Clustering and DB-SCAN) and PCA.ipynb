{
 "cells": [
  {
   "cell_type": "code",
   "execution_count": 3,
   "metadata": {},
   "outputs": [],
   "source": [
    "import pandas as pd\n",
    "import numpy as np\n",
    "import matplotlib.pyplot as plt\n",
    "import seaborn as sns\n",
    "import warnings\n",
    "\n",
    "warnings.filterwarnings(\"ignore\")"
   ]
  },
  {
   "cell_type": "markdown",
   "metadata": {},
   "source": [
    "## 1. Read the dataset"
   ]
  },
  {
   "cell_type": "code",
   "execution_count": 4,
   "metadata": {},
   "outputs": [
    {
     "name": "stdout",
     "output_type": "stream",
     "text": [
      "The shape of the dataset is: (227, 20)\n"
     ]
    }
   ],
   "source": [
    "#read the data\n",
    "\n",
    "data_path = 'countries of the world.csv'\n",
    "df = pd.read_csv(data_path)\n",
    "\n",
    "print('The shape of the dataset is:', df.shape)"
   ]
  },
  {
   "cell_type": "code",
   "execution_count": 5,
   "metadata": {},
   "outputs": [
    {
     "data": {
      "text/html": [
       "<div>\n",
       "<style scoped>\n",
       "    .dataframe tbody tr th:only-of-type {\n",
       "        vertical-align: middle;\n",
       "    }\n",
       "\n",
       "    .dataframe tbody tr th {\n",
       "        vertical-align: top;\n",
       "    }\n",
       "\n",
       "    .dataframe thead th {\n",
       "        text-align: right;\n",
       "    }\n",
       "</style>\n",
       "<table border=\"1\" class=\"dataframe\">\n",
       "  <thead>\n",
       "    <tr style=\"text-align: right;\">\n",
       "      <th></th>\n",
       "      <th>Country</th>\n",
       "      <th>Region</th>\n",
       "      <th>Population</th>\n",
       "      <th>Area (sq. mi.)</th>\n",
       "      <th>Pop. Density (per sq. mi.)</th>\n",
       "      <th>Coastline (coast/area ratio)</th>\n",
       "      <th>Net migration</th>\n",
       "      <th>Infant mortality (per 1000 births)</th>\n",
       "      <th>GDP ($ per capita)</th>\n",
       "      <th>Literacy (%)</th>\n",
       "      <th>Phones (per 1000)</th>\n",
       "      <th>Arable (%)</th>\n",
       "      <th>Crops (%)</th>\n",
       "      <th>Other (%)</th>\n",
       "      <th>Climate</th>\n",
       "      <th>Birthrate</th>\n",
       "      <th>Deathrate</th>\n",
       "      <th>Agriculture</th>\n",
       "      <th>Industry</th>\n",
       "      <th>Service</th>\n",
       "    </tr>\n",
       "  </thead>\n",
       "  <tbody>\n",
       "    <tr>\n",
       "      <th>0</th>\n",
       "      <td>Afghanistan</td>\n",
       "      <td>ASIA (EX. NEAR EAST)</td>\n",
       "      <td>31056997</td>\n",
       "      <td>647500</td>\n",
       "      <td>48,0</td>\n",
       "      <td>0,00</td>\n",
       "      <td>23,06</td>\n",
       "      <td>163,07</td>\n",
       "      <td>700.0</td>\n",
       "      <td>36,0</td>\n",
       "      <td>3,2</td>\n",
       "      <td>12,13</td>\n",
       "      <td>0,22</td>\n",
       "      <td>87,65</td>\n",
       "      <td>1</td>\n",
       "      <td>46,6</td>\n",
       "      <td>20,34</td>\n",
       "      <td>0,38</td>\n",
       "      <td>0,24</td>\n",
       "      <td>0,38</td>\n",
       "    </tr>\n",
       "    <tr>\n",
       "      <th>1</th>\n",
       "      <td>Albania</td>\n",
       "      <td>EASTERN EUROPE</td>\n",
       "      <td>3581655</td>\n",
       "      <td>28748</td>\n",
       "      <td>124,6</td>\n",
       "      <td>1,26</td>\n",
       "      <td>-4,93</td>\n",
       "      <td>21,52</td>\n",
       "      <td>4500.0</td>\n",
       "      <td>86,5</td>\n",
       "      <td>71,2</td>\n",
       "      <td>21,09</td>\n",
       "      <td>4,42</td>\n",
       "      <td>74,49</td>\n",
       "      <td>3</td>\n",
       "      <td>15,11</td>\n",
       "      <td>5,22</td>\n",
       "      <td>0,232</td>\n",
       "      <td>0,188</td>\n",
       "      <td>0,579</td>\n",
       "    </tr>\n",
       "    <tr>\n",
       "      <th>2</th>\n",
       "      <td>Algeria</td>\n",
       "      <td>NORTHERN AFRICA</td>\n",
       "      <td>32930091</td>\n",
       "      <td>2381740</td>\n",
       "      <td>13,8</td>\n",
       "      <td>0,04</td>\n",
       "      <td>-0,39</td>\n",
       "      <td>31</td>\n",
       "      <td>6000.0</td>\n",
       "      <td>70,0</td>\n",
       "      <td>78,1</td>\n",
       "      <td>3,22</td>\n",
       "      <td>0,25</td>\n",
       "      <td>96,53</td>\n",
       "      <td>1</td>\n",
       "      <td>17,14</td>\n",
       "      <td>4,61</td>\n",
       "      <td>0,101</td>\n",
       "      <td>0,6</td>\n",
       "      <td>0,298</td>\n",
       "    </tr>\n",
       "    <tr>\n",
       "      <th>3</th>\n",
       "      <td>American Samoa</td>\n",
       "      <td>OCEANIA</td>\n",
       "      <td>57794</td>\n",
       "      <td>199</td>\n",
       "      <td>290,4</td>\n",
       "      <td>58,29</td>\n",
       "      <td>-20,71</td>\n",
       "      <td>9,27</td>\n",
       "      <td>8000.0</td>\n",
       "      <td>97,0</td>\n",
       "      <td>259,5</td>\n",
       "      <td>10</td>\n",
       "      <td>15</td>\n",
       "      <td>75</td>\n",
       "      <td>2</td>\n",
       "      <td>22,46</td>\n",
       "      <td>3,27</td>\n",
       "      <td>NaN</td>\n",
       "      <td>NaN</td>\n",
       "      <td>NaN</td>\n",
       "    </tr>\n",
       "    <tr>\n",
       "      <th>4</th>\n",
       "      <td>Andorra</td>\n",
       "      <td>WESTERN EUROPE</td>\n",
       "      <td>71201</td>\n",
       "      <td>468</td>\n",
       "      <td>152,1</td>\n",
       "      <td>0,00</td>\n",
       "      <td>6,6</td>\n",
       "      <td>4,05</td>\n",
       "      <td>19000.0</td>\n",
       "      <td>100,0</td>\n",
       "      <td>497,2</td>\n",
       "      <td>2,22</td>\n",
       "      <td>0</td>\n",
       "      <td>97,78</td>\n",
       "      <td>3</td>\n",
       "      <td>8,71</td>\n",
       "      <td>6,25</td>\n",
       "      <td>NaN</td>\n",
       "      <td>NaN</td>\n",
       "      <td>NaN</td>\n",
       "    </tr>\n",
       "  </tbody>\n",
       "</table>\n",
       "</div>"
      ],
      "text/plain": [
       "           Country                               Region  Population  \\\n",
       "0     Afghanistan         ASIA (EX. NEAR EAST)             31056997   \n",
       "1         Albania   EASTERN EUROPE                          3581655   \n",
       "2         Algeria   NORTHERN AFRICA                        32930091   \n",
       "3  American Samoa   OCEANIA                                   57794   \n",
       "4         Andorra   WESTERN EUROPE                            71201   \n",
       "\n",
       "   Area (sq. mi.) Pop. Density (per sq. mi.) Coastline (coast/area ratio)  \\\n",
       "0          647500                       48,0                         0,00   \n",
       "1           28748                      124,6                         1,26   \n",
       "2         2381740                       13,8                         0,04   \n",
       "3             199                      290,4                        58,29   \n",
       "4             468                      152,1                         0,00   \n",
       "\n",
       "  Net migration Infant mortality (per 1000 births)  GDP ($ per capita)  \\\n",
       "0         23,06                             163,07               700.0   \n",
       "1         -4,93                              21,52              4500.0   \n",
       "2         -0,39                                 31              6000.0   \n",
       "3        -20,71                               9,27              8000.0   \n",
       "4           6,6                               4,05             19000.0   \n",
       "\n",
       "  Literacy (%) Phones (per 1000) Arable (%) Crops (%) Other (%) Climate  \\\n",
       "0         36,0               3,2      12,13      0,22     87,65       1   \n",
       "1         86,5              71,2      21,09      4,42     74,49       3   \n",
       "2         70,0              78,1       3,22      0,25     96,53       1   \n",
       "3         97,0             259,5         10        15        75       2   \n",
       "4        100,0             497,2       2,22         0     97,78       3   \n",
       "\n",
       "  Birthrate Deathrate Agriculture Industry Service  \n",
       "0      46,6     20,34        0,38     0,24    0,38  \n",
       "1     15,11      5,22       0,232    0,188   0,579  \n",
       "2     17,14      4,61       0,101      0,6   0,298  \n",
       "3     22,46      3,27         NaN      NaN     NaN  \n",
       "4      8,71      6,25         NaN      NaN     NaN  "
      ]
     },
     "execution_count": 5,
     "metadata": {},
     "output_type": "execute_result"
    }
   ],
   "source": [
    "df.head()"
   ]
  },
  {
   "cell_type": "markdown",
   "metadata": {},
   "source": [
    "## 2 Data investigation<br>\n",
    "\n",
    "in this part you need to check the data quality and assess any issues in the data as:\n",
    "- null values in each column \n",
    "- each column has the proper data type\n",
    "- outliers\n",
    "- duplicate rows\n",
    "- distribution for each column (skewness)\n",
    "<br>\n"
   ]
  },
  {
   "cell_type": "code",
   "execution_count": 6,
   "metadata": {},
   "outputs": [
    {
     "name": "stdout",
     "output_type": "stream",
     "text": [
      "<class 'pandas.core.frame.DataFrame'>\n",
      "RangeIndex: 227 entries, 0 to 226\n",
      "Data columns (total 20 columns):\n",
      " #   Column                              Non-Null Count  Dtype  \n",
      "---  ------                              --------------  -----  \n",
      " 0   Country                             227 non-null    object \n",
      " 1   Region                              227 non-null    object \n",
      " 2   Population                          227 non-null    int64  \n",
      " 3   Area (sq. mi.)                      227 non-null    int64  \n",
      " 4   Pop. Density (per sq. mi.)          227 non-null    object \n",
      " 5   Coastline (coast/area ratio)        227 non-null    object \n",
      " 6   Net migration                       224 non-null    object \n",
      " 7   Infant mortality (per 1000 births)  224 non-null    object \n",
      " 8   GDP ($ per capita)                  226 non-null    float64\n",
      " 9   Literacy (%)                        209 non-null    object \n",
      " 10  Phones (per 1000)                   223 non-null    object \n",
      " 11  Arable (%)                          225 non-null    object \n",
      " 12  Crops (%)                           225 non-null    object \n",
      " 13  Other (%)                           225 non-null    object \n",
      " 14  Climate                             205 non-null    object \n",
      " 15  Birthrate                           224 non-null    object \n",
      " 16  Deathrate                           223 non-null    object \n",
      " 17  Agriculture                         212 non-null    object \n",
      " 18  Industry                            211 non-null    object \n",
      " 19  Service                             212 non-null    object \n",
      "dtypes: float64(1), int64(2), object(17)\n",
      "memory usage: 35.6+ KB\n"
     ]
    }
   ],
   "source": [
    "# Let's see the data types and non-null values for each column\n",
    "df.info()"
   ]
  },
  {
   "cell_type": "code",
   "execution_count": 7,
   "metadata": {},
   "outputs": [
    {
     "data": {
      "text/plain": [
       "Country                                0\n",
       "Region                                 0\n",
       "Population                             0\n",
       "Area (sq. mi.)                         0\n",
       "Pop. Density (per sq. mi.)             0\n",
       "Coastline (coast/area ratio)           0\n",
       "Net migration                          3\n",
       "Infant mortality (per 1000 births)     3\n",
       "GDP ($ per capita)                     1\n",
       "Literacy (%)                          18\n",
       "Phones (per 1000)                      4\n",
       "Arable (%)                             2\n",
       "Crops (%)                              2\n",
       "Other (%)                              2\n",
       "Climate                               22\n",
       "Birthrate                              3\n",
       "Deathrate                              4\n",
       "Agriculture                           15\n",
       "Industry                              16\n",
       "Service                               15\n",
       "dtype: int64"
      ]
     },
     "execution_count": 7,
     "metadata": {},
     "output_type": "execute_result"
    }
   ],
   "source": [
    "#check nulls in each feature\n",
    "df.isna().sum()"
   ]
  },
  {
   "cell_type": "code",
   "execution_count": 8,
   "metadata": {},
   "outputs": [
    {
     "data": {
      "text/plain": [
       "Country                               0.00\n",
       "Region                                0.00\n",
       "Population                            0.00\n",
       "Area (sq. mi.)                        0.00\n",
       "Pop. Density (per sq. mi.)            0.00\n",
       "Coastline (coast/area ratio)          0.00\n",
       "Net migration                         1.32\n",
       "Infant mortality (per 1000 births)    1.32\n",
       "GDP ($ per capita)                    0.44\n",
       "Literacy (%)                          7.93\n",
       "Phones (per 1000)                     1.76\n",
       "Arable (%)                            0.88\n",
       "Crops (%)                             0.88\n",
       "Other (%)                             0.88\n",
       "Climate                               9.69\n",
       "Birthrate                             1.32\n",
       "Deathrate                             1.76\n",
       "Agriculture                           6.61\n",
       "Industry                              7.05\n",
       "Service                               6.61\n",
       "dtype: float64"
      ]
     },
     "execution_count": 8,
     "metadata": {},
     "output_type": "execute_result"
    }
   ],
   "source": [
    "round(df.isnull().sum(axis=0)*100/df.shape[0],2)"
   ]
  },
  {
   "cell_type": "code",
   "execution_count": 9,
   "metadata": {},
   "outputs": [
    {
     "data": {
      "text/html": [
       "<div>\n",
       "<style scoped>\n",
       "    .dataframe tbody tr th:only-of-type {\n",
       "        vertical-align: middle;\n",
       "    }\n",
       "\n",
       "    .dataframe tbody tr th {\n",
       "        vertical-align: top;\n",
       "    }\n",
       "\n",
       "    .dataframe thead th {\n",
       "        text-align: right;\n",
       "    }\n",
       "</style>\n",
       "<table border=\"1\" class=\"dataframe\">\n",
       "  <thead>\n",
       "    <tr style=\"text-align: right;\">\n",
       "      <th></th>\n",
       "      <th>Population</th>\n",
       "      <th>Area (sq. mi.)</th>\n",
       "      <th>GDP ($ per capita)</th>\n",
       "    </tr>\n",
       "  </thead>\n",
       "  <tbody>\n",
       "    <tr>\n",
       "      <th>count</th>\n",
       "      <td>2.270000e+02</td>\n",
       "      <td>2.270000e+02</td>\n",
       "      <td>226.000000</td>\n",
       "    </tr>\n",
       "    <tr>\n",
       "      <th>mean</th>\n",
       "      <td>2.874028e+07</td>\n",
       "      <td>5.982270e+05</td>\n",
       "      <td>9689.823009</td>\n",
       "    </tr>\n",
       "    <tr>\n",
       "      <th>std</th>\n",
       "      <td>1.178913e+08</td>\n",
       "      <td>1.790282e+06</td>\n",
       "      <td>10049.138513</td>\n",
       "    </tr>\n",
       "    <tr>\n",
       "      <th>min</th>\n",
       "      <td>7.026000e+03</td>\n",
       "      <td>2.000000e+00</td>\n",
       "      <td>500.000000</td>\n",
       "    </tr>\n",
       "    <tr>\n",
       "      <th>25%</th>\n",
       "      <td>4.376240e+05</td>\n",
       "      <td>4.647500e+03</td>\n",
       "      <td>1900.000000</td>\n",
       "    </tr>\n",
       "    <tr>\n",
       "      <th>50%</th>\n",
       "      <td>4.786994e+06</td>\n",
       "      <td>8.660000e+04</td>\n",
       "      <td>5550.000000</td>\n",
       "    </tr>\n",
       "    <tr>\n",
       "      <th>75%</th>\n",
       "      <td>1.749777e+07</td>\n",
       "      <td>4.418110e+05</td>\n",
       "      <td>15700.000000</td>\n",
       "    </tr>\n",
       "    <tr>\n",
       "      <th>max</th>\n",
       "      <td>1.313974e+09</td>\n",
       "      <td>1.707520e+07</td>\n",
       "      <td>55100.000000</td>\n",
       "    </tr>\n",
       "  </tbody>\n",
       "</table>\n",
       "</div>"
      ],
      "text/plain": [
       "         Population  Area (sq. mi.)  GDP ($ per capita)\n",
       "count  2.270000e+02    2.270000e+02          226.000000\n",
       "mean   2.874028e+07    5.982270e+05         9689.823009\n",
       "std    1.178913e+08    1.790282e+06        10049.138513\n",
       "min    7.026000e+03    2.000000e+00          500.000000\n",
       "25%    4.376240e+05    4.647500e+03         1900.000000\n",
       "50%    4.786994e+06    8.660000e+04         5550.000000\n",
       "75%    1.749777e+07    4.418110e+05        15700.000000\n",
       "max    1.313974e+09    1.707520e+07        55100.000000"
      ]
     },
     "execution_count": 9,
     "metadata": {},
     "output_type": "execute_result"
    }
   ],
   "source": [
    "# This will print basic statistics for numerical columns\n",
    "df.describe()"
   ]
  },
  {
   "cell_type": "code",
   "execution_count": 10,
   "metadata": {},
   "outputs": [
    {
     "name": "stdout",
     "output_type": "stream",
     "text": [
      "Country\n",
      "\n",
      "Bangladesh               1\n",
      "Morocco                  1\n",
      "Nauru                    1\n",
      "Fiji                     1\n",
      "Turkmenistan             1\n",
      "                        ..\n",
      "Congo, Repub. of the     1\n",
      "American Samoa           1\n",
      "Canada                   1\n",
      "Korea, South             1\n",
      "Cote d'Ivoire            1\n",
      "Name: Country, Length: 227, dtype: int64\n",
      "**************************************************\n",
      "Region\n",
      "\n",
      "SUB-SAHARAN AFRICA                     51\n",
      "LATIN AMER. & CARIB                    45\n",
      "ASIA (EX. NEAR EAST)                   28\n",
      "WESTERN EUROPE                         28\n",
      "OCEANIA                                21\n",
      "NEAR EAST                              16\n",
      "EASTERN EUROPE                         12\n",
      "C.W. OF IND. STATES                    12\n",
      "NORTHERN AFRICA                         6\n",
      "NORTHERN AMERICA                        5\n",
      "BALTICS                                 3\n",
      "Name: Region, dtype: int64\n",
      "**************************************************\n",
      "Population\n",
      "\n",
      "4303356     1\n",
      "13902972    1\n",
      "11987121    1\n",
      "48846823    1\n",
      "33241259    1\n",
      "           ..\n",
      "2460492     1\n",
      "43593035    1\n",
      "21152       1\n",
      "5906760     1\n",
      "114689      1\n",
      "Name: Population, Length: 227, dtype: int64\n",
      "**************************************************\n",
      "Area (sq. mi.)\n",
      "\n",
      "102         2\n",
      "431         1\n",
      "15007       1\n",
      "27830       1\n",
      "693         1\n",
      "           ..\n",
      "1219912     1\n",
      "2166086     1\n",
      "2381740     1\n",
      "30528       1\n",
      "17075200    1\n",
      "Name: Area (sq. mi.), Length: 226, dtype: int64\n",
      "**************************************************\n",
      "Pop. Density (per sq. mi.)\n",
      "\n",
      "77,4     2\n",
      "372,5    2\n",
      "69,8     2\n",
      "66,6     2\n",
      "49,6     2\n",
      "        ..\n",
      "28,2     1\n",
      "298,2    1\n",
      "182,2    1\n",
      "132,1    1\n",
      "0,0      1\n",
      "Name: Pop. Density (per sq. mi.), Length: 219, dtype: int64\n",
      "**************************************************\n",
      "Coastline (coast/area ratio)\n",
      "\n",
      "0,00     44\n",
      "0,09      4\n",
      "0,13      4\n",
      "0,10      3\n",
      "0,37      3\n",
      "         ..\n",
      "0,40      1\n",
      "1,09      1\n",
      "25,65     1\n",
      "49,59     1\n",
      "1,06      1\n",
      "Name: Coastline (coast/area ratio), Length: 151, dtype: int64\n",
      "**************************************************\n",
      "Net migration\n",
      "\n",
      "0        62\n",
      "-0,39     2\n",
      "-0,31     2\n",
      "-0,07     2\n",
      "2,07      2\n",
      "         ..\n",
      "0,26      1\n",
      "-2,45     1\n",
      "-2,2      1\n",
      "-0,17     1\n",
      "-1,05     1\n",
      "Name: Net migration, Length: 157, dtype: int64\n",
      "**************************************************\n",
      "Infant mortality (per 1000 births)\n",
      "\n",
      "9,95     3\n",
      "4,39     2\n",
      "12,62    2\n",
      "61,81    1\n",
      "47,41    1\n",
      "        ..\n",
      "7,03     1\n",
      "4,7      1\n",
      "17,7     1\n",
      "62,4     1\n",
      "50,25    1\n",
      "Name: Infant mortality (per 1000 births), Length: 220, dtype: int64\n",
      "**************************************************\n",
      "GDP ($ per capita)\n",
      "\n",
      "800.0      7\n",
      "700.0      6\n",
      "1900.0     5\n",
      "1800.0     5\n",
      "600.0      4\n",
      "          ..\n",
      "8300.0     1\n",
      "36000.0    1\n",
      "2700.0     1\n",
      "16900.0    1\n",
      "17200.0    1\n",
      "Name: GDP ($ per capita), Length: 130, dtype: int64\n",
      "**************************************************\n",
      "Literacy (%)\n",
      "\n",
      "99,0     13\n",
      "97,0     11\n",
      "98,0     10\n",
      "100,0     7\n",
      "98,6      4\n",
      "         ..\n",
      "79,3      1\n",
      "97,7      1\n",
      "75,8      1\n",
      "40,2      1\n",
      "56,5      1\n",
      "Name: Literacy (%), Length: 140, dtype: int64\n",
      "**************************************************\n",
      "Phones (per 1000)\n",
      "\n",
      "2,3      2\n",
      "255,6    2\n",
      "3,6      2\n",
      "4,0      2\n",
      "2,7      2\n",
      "        ..\n",
      "461,2    1\n",
      "283,1    1\n",
      "276,4    1\n",
      "811,3    1\n",
      "75,2     1\n",
      "Name: Phones (per 1000), Length: 214, dtype: int64\n",
      "**************************************************\n",
      "Arable (%)\n",
      "\n",
      "0        9\n",
      "20       3\n",
      "1,67     2\n",
      "2,67     2\n",
      "16,67    2\n",
      "        ..\n",
      "16,07    1\n",
      "3,63     1\n",
      "28,95    1\n",
      "26,09    1\n",
      "4,95     1\n",
      "Name: Arable (%), Length: 203, dtype: int64\n",
      "**************************************************\n",
      "Crops (%)\n",
      "\n",
      "0        28\n",
      "0,03      5\n",
      "0,4       4\n",
      "0,01      4\n",
      "0,19      4\n",
      "         ..\n",
      "2,4       1\n",
      "0,27      1\n",
      "0,7       1\n",
      "22,95     1\n",
      "0,6       1\n",
      "Name: Crops (%), Length: 162, dtype: int64\n",
      "**************************************************\n",
      "Other (%)\n",
      "\n",
      "100      8\n",
      "75       3\n",
      "80       2\n",
      "96,15    2\n",
      "95,02    2\n",
      "        ..\n",
      "64,06    1\n",
      "94,6     1\n",
      "89,71    1\n",
      "92,15    1\n",
      "64,4     1\n",
      "Name: Other (%), Length: 209, dtype: int64\n",
      "**************************************************\n",
      "Climate\n",
      "\n",
      "2      111\n",
      "3       48\n",
      "1       29\n",
      "1,5      8\n",
      "4        6\n",
      "2,5      3\n",
      "Name: Climate, dtype: int64\n",
      "**************************************************\n",
      "Birthrate\n",
      "\n",
      "18,02    2\n",
      "12,56    2\n",
      "20,48    2\n",
      "18,79    2\n",
      "16,18    1\n",
      "        ..\n",
      "11,46    1\n",
      "9,61     1\n",
      "9,95     1\n",
      "33,91    1\n",
      "27,76    1\n",
      "Name: Birthrate, Length: 220, dtype: int64\n",
      "**************************************************\n",
      "Deathrate\n",
      "\n",
      "7,84     2\n",
      "12,25    2\n",
      "10,31    2\n",
      "8,26     2\n",
      "5,37     2\n",
      "        ..\n",
      "5,78     1\n",
      "9,75     1\n",
      "7,65     1\n",
      "5,2      1\n",
      "18,86    1\n",
      "Name: Deathrate, Length: 201, dtype: int64\n",
      "**************************************************\n",
      "Agriculture\n",
      "\n",
      "0,01     8\n",
      "0,04     6\n",
      "0,03     5\n",
      "0,018    4\n",
      "0,06     4\n",
      "        ..\n",
      "0,017    1\n",
      "0        1\n",
      "0,17     1\n",
      "0,395    1\n",
      "0,102    1\n",
      "Name: Agriculture, Length: 150, dtype: int64\n",
      "**************************************************\n",
      "Industry\n",
      "\n",
      "0,17     4\n",
      "0,11     4\n",
      "0,19     3\n",
      "0,203    3\n",
      "0,188    3\n",
      "        ..\n",
      "0,296    1\n",
      "0,458    1\n",
      "0,299    1\n",
      "0,479    1\n",
      "0,457    1\n",
      "Name: Industry, Length: 155, dtype: int64\n",
      "**************************************************\n",
      "Service\n",
      "\n",
      "0,684    5\n",
      "0,55     4\n",
      "0,62     4\n",
      "0,549    3\n",
      "0,603    3\n",
      "        ..\n",
      "0,54     1\n",
      "0,26     1\n",
      "0,678    1\n",
      "0,302    1\n",
      "0,363    1\n",
      "Name: Service, Length: 167, dtype: int64\n",
      "**************************************************\n"
     ]
    }
   ],
   "source": [
    "#count uniqe values in each feature\n",
    "\n",
    "for col in df.columns:\n",
    "    print(col + '\\n')\n",
    "    print(df[col].value_counts())\n",
    "    print('*' * 50)"
   ]
  },
  {
   "cell_type": "code",
   "execution_count": null,
   "metadata": {},
   "outputs": [],
   "source": []
  },
  {
   "cell_type": "markdown",
   "metadata": {},
   "source": [
    "## 3 Data preprocessing<br>\n",
    "\n"
   ]
  },
  {
   "cell_type": "markdown",
   "metadata": {},
   "source": [
    "### Define below all the issues that you had found in the previous part\n",
    "1- Data type isn't correct and most columns contain , instead of .          <br>\n",
    "2- Data contain nulls <br>\n",
    "3- Encoding categorical feature (Region)"
   ]
  },
  {
   "cell_type": "code",
   "execution_count": 11,
   "metadata": {},
   "outputs": [],
   "source": [
    "#make a copy for the original dataset\n",
    "df_copy=df.copy()"
   ]
  },
  {
   "cell_type": "markdown",
   "metadata": {},
   "source": [
    "### for each issue adapt this methodology \n",
    "- start by defining the solution\n",
    "- apply this solution onn the data\n",
    "- test the solution to make sure that you have solved the issue"
   ]
  },
  {
   "cell_type": "markdown",
   "metadata": {},
   "source": [
    "**First issue** <br>\n",
    "**Data types**"
   ]
  },
  {
   "cell_type": "code",
   "execution_count": 12,
   "metadata": {},
   "outputs": [],
   "source": [
    "#solution \n",
    "# changing object data type to float / category types and replace , with .\n",
    "\n",
    "df.Country = df.Country.astype('category')\n",
    "df.Region = df.Region.astype('category')\n",
    "\n",
    "cols_need_replace = ['Pop. Density (per sq. mi.)', 'Coastline (coast/area ratio)',\n",
    "       'Net migration', 'Infant mortality (per 1000 births)','Literacy (%)', 'Phones (per 1000)', 'Arable (%)',\n",
    "       'Crops (%)', 'Other (%)', 'Climate', 'Birthrate', 'Deathrate','Agriculture', 'Industry', 'Service']\n",
    "\n",
    "for col in cols_need_replace:\n",
    "    \n",
    "    df[col] = df[col].astype(str)\n",
    "    df[col] = df[col].str.replace(\",\",\".\").astype(float)\n",
    "\n"
   ]
  },
  {
   "cell_type": "code",
   "execution_count": 13,
   "metadata": {},
   "outputs": [
    {
     "name": "stdout",
     "output_type": "stream",
     "text": [
      "<class 'pandas.core.frame.DataFrame'>\n",
      "RangeIndex: 227 entries, 0 to 226\n",
      "Data columns (total 20 columns):\n",
      " #   Column                              Non-Null Count  Dtype   \n",
      "---  ------                              --------------  -----   \n",
      " 0   Country                             227 non-null    category\n",
      " 1   Region                              227 non-null    category\n",
      " 2   Population                          227 non-null    int64   \n",
      " 3   Area (sq. mi.)                      227 non-null    int64   \n",
      " 4   Pop. Density (per sq. mi.)          227 non-null    float64 \n",
      " 5   Coastline (coast/area ratio)        227 non-null    float64 \n",
      " 6   Net migration                       224 non-null    float64 \n",
      " 7   Infant mortality (per 1000 births)  224 non-null    float64 \n",
      " 8   GDP ($ per capita)                  226 non-null    float64 \n",
      " 9   Literacy (%)                        209 non-null    float64 \n",
      " 10  Phones (per 1000)                   223 non-null    float64 \n",
      " 11  Arable (%)                          225 non-null    float64 \n",
      " 12  Crops (%)                           225 non-null    float64 \n",
      " 13  Other (%)                           225 non-null    float64 \n",
      " 14  Climate                             205 non-null    float64 \n",
      " 15  Birthrate                           224 non-null    float64 \n",
      " 16  Deathrate                           223 non-null    float64 \n",
      " 17  Agriculture                         212 non-null    float64 \n",
      " 18  Industry                            211 non-null    float64 \n",
      " 19  Service                             212 non-null    float64 \n",
      "dtypes: category(2), float64(16), int64(2)\n",
      "memory usage: 44.9 KB\n"
     ]
    }
   ],
   "source": [
    "#test \n",
    "df.info()"
   ]
  },
  {
   "cell_type": "markdown",
   "metadata": {},
   "source": [
    "**Second issue** <br>\n",
    "**Dealing with nulls**"
   ]
  },
  {
   "cell_type": "code",
   "execution_count": 14,
   "metadata": {},
   "outputs": [
    {
     "data": {
      "image/png": "[encoded data removed]",
      "text/plain": [
       "<Figure size 1152x2160 with 17 Axes>"
      ]
     },
     "metadata": {
      "needs_background": "light"
     },
     "output_type": "display_data"
    }
   ],
   "source": [
    "#solution \n",
    "#test distribution and outliers of features to find out the best value that will be used to fill nulls\n",
    "\n",
    "numeric_features = ['Population', 'Area (sq. mi.)', 'Pop. Density (per sq. mi.)', 'Coastline (coast/area ratio)',\n",
    "       'Net migration', 'Infant mortality (per 1000 births)','Literacy (%)', 'Phones (per 1000)', 'Arable (%)',\n",
    "       'Crops (%)', 'Other (%)', 'Climate', 'Birthrate', 'Deathrate','Agriculture', 'Industry', 'Service']\n",
    "fig = plt.figure(figsize=(16,30))\n",
    "\n",
    "for i in range(len(numeric_features)):\n",
    "    fig.add_subplot(9, 5, i+1)\n",
    "    sns.boxplot(y=df[numeric_features[i]])\n",
    "plt.tight_layout()\n",
    "plt.show()"
   ]
  },
  {
   "cell_type": "markdown",
   "metadata": {},
   "source": [
    "conclusion from boxplot <br>\n",
    "a few outliers(<10 outliers) :birthrate, service , phones, other, climate , density, literacy, arable, agriculture, industry <br>\n",
    "alot of outliers(>=10 outliers): population, area, coastline_area_ratio, net_migration, crops, deathrate"
   ]
  },
  {
   "cell_type": "code",
   "execution_count": 15,
   "metadata": {},
   "outputs": [
    {
     "data": {
      "image/png": "[encoded data removed]",
      "text/plain": [
       "<Figure size 1080x1440 with 17 Axes>"
      ]
     },
     "metadata": {
      "needs_background": "light"
     },
     "output_type": "display_data"
    }
   ],
   "source": [
    "#plot histogram of distribution\n",
    "fig = plt.figure(figsize=(15,20))\n",
    "for i in range(len(numeric_features)):\n",
    "    fig.add_subplot(9, 5, i+1)\n",
    "    sns.distplot(df[numeric_features[i]])\n",
    "plt.tight_layout()\n",
    "plt.show()"
   ]
  },
  {
   "cell_type": "markdown",
   "metadata": {},
   "source": [
    "## Fill Nulls "
   ]
  },
  {
   "cell_type": "code",
   "execution_count": 16,
   "metadata": {},
   "outputs": [],
   "source": [
    "df['Net migration'].fillna(0, inplace=True)\n",
    "\n",
    "df['Infant mortality (per 1000 births)'].fillna(0, inplace=True)\n",
    "\n",
    "df['GDP ($ per capita)'].fillna(2500, inplace=True)\n",
    "\n",
    "df['Literacy (%)'].fillna(df.groupby('Region')['Literacy (%)'].transform('median'), inplace= True)\n",
    "\n",
    "df['Phones (per 1000)'].fillna(df.groupby('Region')['Phones (per 1000)'].transform('median'), inplace= True)\n",
    "\n",
    "df['Arable (%)'].fillna(0, inplace=True)\n",
    "\n",
    "df['Crops (%)'].fillna(0, inplace=True)\n",
    "\n",
    "df['Other (%)'].fillna(0, inplace=True)\n",
    "\n",
    "df['Climate'].fillna(0, inplace=True)\n",
    "\n",
    "df['Agriculture'].fillna(df.groupby('Region')['Agriculture'].transform('mean'), inplace= True)\n",
    "\n",
    "df['Industry'].fillna(df.groupby('Region')['Industry'].transform('mean'), inplace= True)\n",
    "\n",
    "df['Service'].fillna(df.groupby('Region')['Service'].transform('mean'), inplace= True)\n",
    "\n",
    "df['Birthrate'].fillna(df.groupby('Region')['Birthrate'].transform('mean'), inplace= True)\n",
    "\n",
    "df['Deathrate'].fillna(df.groupby('Region')['Deathrate'].transform('median'), inplace= True)"
   ]
  },
  {
   "cell_type": "code",
   "execution_count": 17,
   "metadata": {},
   "outputs": [
    {
     "data": {
      "text/plain": [
       "Country                               0\n",
       "Region                                0\n",
       "Population                            0\n",
       "Area (sq. mi.)                        0\n",
       "Pop. Density (per sq. mi.)            0\n",
       "Coastline (coast/area ratio)          0\n",
       "Net migration                         0\n",
       "Infant mortality (per 1000 births)    0\n",
       "GDP ($ per capita)                    0\n",
       "Literacy (%)                          0\n",
       "Phones (per 1000)                     0\n",
       "Arable (%)                            0\n",
       "Crops (%)                             0\n",
       "Other (%)                             0\n",
       "Climate                               0\n",
       "Birthrate                             0\n",
       "Deathrate                             0\n",
       "Agriculture                           0\n",
       "Industry                              0\n",
       "Service                               0\n",
       "dtype: int64"
      ]
     },
     "execution_count": 17,
     "metadata": {},
     "output_type": "execute_result"
    }
   ],
   "source": [
    "#test\n",
    "df.isna().sum()"
   ]
  },
  {
   "cell_type": "markdown",
   "metadata": {},
   "source": [
    "**Third issue**<br>\n",
    "**Encoging region feature**"
   ]
  },
  {
   "cell_type": "code",
   "execution_count": 18,
   "metadata": {},
   "outputs": [],
   "source": [
    "\n",
    "from sklearn import preprocessing \n",
    "\n",
    "le = preprocessing.LabelEncoder()\n",
    "df['Region'] = le.fit_transform(df.Region.values)\n",
    "df['Region'] = le.fit_transform(df['Region'])\n",
    "\n"
   ]
  },
  {
   "cell_type": "code",
   "execution_count": 19,
   "metadata": {},
   "outputs": [
    {
     "data": {
      "text/plain": [
       "9     51\n",
       "4     45\n",
       "10    28\n",
       "0     28\n",
       "8     21\n",
       "5     16\n",
       "3     12\n",
       "2     12\n",
       "6      6\n",
       "7      5\n",
       "1      3\n",
       "Name: Region, dtype: int64"
      ]
     },
     "execution_count": 19,
     "metadata": {},
     "output_type": "execute_result"
    }
   ],
   "source": [
    "#test encoding\n",
    "df['Region'].value_counts()"
   ]
  },
  {
   "cell_type": "code",
   "execution_count": 20,
   "metadata": {},
   "outputs": [],
   "source": [
    "df = df.drop(columns=\"Country\")"
   ]
  },
  {
   "cell_type": "code",
   "execution_count": 21,
   "metadata": {},
   "outputs": [
    {
     "data": {
      "text/html": [
       "<div>\n",
       "<style scoped>\n",
       "    .dataframe tbody tr th:only-of-type {\n",
       "        vertical-align: middle;\n",
       "    }\n",
       "\n",
       "    .dataframe tbody tr th {\n",
       "        vertical-align: top;\n",
       "    }\n",
       "\n",
       "    .dataframe thead th {\n",
       "        text-align: right;\n",
       "    }\n",
       "</style>\n",
       "<table border=\"1\" class=\"dataframe\">\n",
       "  <thead>\n",
       "    <tr style=\"text-align: right;\">\n",
       "      <th></th>\n",
       "      <th>Region</th>\n",
       "      <th>Population</th>\n",
       "      <th>Area (sq. mi.)</th>\n",
       "      <th>Pop. Density (per sq. mi.)</th>\n",
       "      <th>Coastline (coast/area ratio)</th>\n",
       "      <th>Net migration</th>\n",
       "      <th>Infant mortality (per 1000 births)</th>\n",
       "      <th>GDP ($ per capita)</th>\n",
       "      <th>Literacy (%)</th>\n",
       "      <th>Phones (per 1000)</th>\n",
       "      <th>Arable (%)</th>\n",
       "      <th>Crops (%)</th>\n",
       "      <th>Other (%)</th>\n",
       "      <th>Climate</th>\n",
       "      <th>Birthrate</th>\n",
       "      <th>Deathrate</th>\n",
       "      <th>Agriculture</th>\n",
       "      <th>Industry</th>\n",
       "      <th>Service</th>\n",
       "    </tr>\n",
       "  </thead>\n",
       "  <tbody>\n",
       "    <tr>\n",
       "      <th>0</th>\n",
       "      <td>0</td>\n",
       "      <td>31056997</td>\n",
       "      <td>647500</td>\n",
       "      <td>48.0</td>\n",
       "      <td>0.00</td>\n",
       "      <td>23.06</td>\n",
       "      <td>163.07</td>\n",
       "      <td>700.0</td>\n",
       "      <td>36.0</td>\n",
       "      <td>3.2</td>\n",
       "      <td>12.13</td>\n",
       "      <td>0.22</td>\n",
       "      <td>87.65</td>\n",
       "      <td>1.0</td>\n",
       "      <td>46.60</td>\n",
       "      <td>20.34</td>\n",
       "      <td>0.380000</td>\n",
       "      <td>0.240000</td>\n",
       "      <td>0.380000</td>\n",
       "    </tr>\n",
       "    <tr>\n",
       "      <th>1</th>\n",
       "      <td>3</td>\n",
       "      <td>3581655</td>\n",
       "      <td>28748</td>\n",
       "      <td>124.6</td>\n",
       "      <td>1.26</td>\n",
       "      <td>-4.93</td>\n",
       "      <td>21.52</td>\n",
       "      <td>4500.0</td>\n",
       "      <td>86.5</td>\n",
       "      <td>71.2</td>\n",
       "      <td>21.09</td>\n",
       "      <td>4.42</td>\n",
       "      <td>74.49</td>\n",
       "      <td>3.0</td>\n",
       "      <td>15.11</td>\n",
       "      <td>5.22</td>\n",
       "      <td>0.232000</td>\n",
       "      <td>0.188000</td>\n",
       "      <td>0.579000</td>\n",
       "    </tr>\n",
       "    <tr>\n",
       "      <th>2</th>\n",
       "      <td>6</td>\n",
       "      <td>32930091</td>\n",
       "      <td>2381740</td>\n",
       "      <td>13.8</td>\n",
       "      <td>0.04</td>\n",
       "      <td>-0.39</td>\n",
       "      <td>31.00</td>\n",
       "      <td>6000.0</td>\n",
       "      <td>70.0</td>\n",
       "      <td>78.1</td>\n",
       "      <td>3.22</td>\n",
       "      <td>0.25</td>\n",
       "      <td>96.53</td>\n",
       "      <td>1.0</td>\n",
       "      <td>17.14</td>\n",
       "      <td>4.61</td>\n",
       "      <td>0.101000</td>\n",
       "      <td>0.600000</td>\n",
       "      <td>0.298000</td>\n",
       "    </tr>\n",
       "    <tr>\n",
       "      <th>3</th>\n",
       "      <td>8</td>\n",
       "      <td>57794</td>\n",
       "      <td>199</td>\n",
       "      <td>290.4</td>\n",
       "      <td>58.29</td>\n",
       "      <td>-20.71</td>\n",
       "      <td>9.27</td>\n",
       "      <td>8000.0</td>\n",
       "      <td>97.0</td>\n",
       "      <td>259.5</td>\n",
       "      <td>10.00</td>\n",
       "      <td>15.00</td>\n",
       "      <td>75.00</td>\n",
       "      <td>2.0</td>\n",
       "      <td>22.46</td>\n",
       "      <td>3.27</td>\n",
       "      <td>0.175125</td>\n",
       "      <td>0.215250</td>\n",
       "      <td>0.608937</td>\n",
       "    </tr>\n",
       "    <tr>\n",
       "      <th>4</th>\n",
       "      <td>10</td>\n",
       "      <td>71201</td>\n",
       "      <td>468</td>\n",
       "      <td>152.1</td>\n",
       "      <td>0.00</td>\n",
       "      <td>6.60</td>\n",
       "      <td>4.05</td>\n",
       "      <td>19000.0</td>\n",
       "      <td>100.0</td>\n",
       "      <td>497.2</td>\n",
       "      <td>2.22</td>\n",
       "      <td>0.00</td>\n",
       "      <td>97.78</td>\n",
       "      <td>3.0</td>\n",
       "      <td>8.71</td>\n",
       "      <td>6.25</td>\n",
       "      <td>0.044480</td>\n",
       "      <td>0.246083</td>\n",
       "      <td>0.714625</td>\n",
       "    </tr>\n",
       "  </tbody>\n",
       "</table>\n",
       "</div>"
      ],
      "text/plain": [
       "   Region  Population  Area (sq. mi.)  Pop. Density (per sq. mi.)  \\\n",
       "0       0    31056997          647500                        48.0   \n",
       "1       3     3581655           28748                       124.6   \n",
       "2       6    32930091         2381740                        13.8   \n",
       "3       8       57794             199                       290.4   \n",
       "4      10       71201             468                       152.1   \n",
       "\n",
       "   Coastline (coast/area ratio)  Net migration  \\\n",
       "0                          0.00          23.06   \n",
       "1                          1.26          -4.93   \n",
       "2                          0.04          -0.39   \n",
       "3                         58.29         -20.71   \n",
       "4                          0.00           6.60   \n",
       "\n",
       "   Infant mortality (per 1000 births)  GDP ($ per capita)  Literacy (%)  \\\n",
       "0                              163.07               700.0          36.0   \n",
       "1                               21.52              4500.0          86.5   \n",
       "2                               31.00              6000.0          70.0   \n",
       "3                                9.27              8000.0          97.0   \n",
       "4                                4.05             19000.0         100.0   \n",
       "\n",
       "   Phones (per 1000)  Arable (%)  Crops (%)  Other (%)  Climate  Birthrate  \\\n",
       "0                3.2       12.13       0.22      87.65      1.0      46.60   \n",
       "1               71.2       21.09       4.42      74.49      3.0      15.11   \n",
       "2               78.1        3.22       0.25      96.53      1.0      17.14   \n",
       "3              259.5       10.00      15.00      75.00      2.0      22.46   \n",
       "4              497.2        2.22       0.00      97.78      3.0       8.71   \n",
       "\n",
       "   Deathrate  Agriculture  Industry   Service  \n",
       "0      20.34     0.380000  0.240000  0.380000  \n",
       "1       5.22     0.232000  0.188000  0.579000  \n",
       "2       4.61     0.101000  0.600000  0.298000  \n",
       "3       3.27     0.175125  0.215250  0.608937  \n",
       "4       6.25     0.044480  0.246083  0.714625  "
      ]
     },
     "execution_count": 21,
     "metadata": {},
     "output_type": "execute_result"
    }
   ],
   "source": [
    "df.head()"
   ]
  },
  {
   "cell_type": "markdown",
   "metadata": {},
   "source": [
    "## 4. Features transformation\n"
   ]
  },
  {
   "cell_type": "code",
   "execution_count": 22,
   "metadata": {},
   "outputs": [
    {
     "data": {
      "text/plain": [
       "array([[-1.00000000e+00,  1.53984609e+00,  1.28304399e+00, ...,\n",
       "         1.57422969e+00, -1.51442308e-01, -8.38574423e-01],\n",
       "       [-4.00000000e-01, -7.06523158e-02, -1.32334927e-01, ...,\n",
       "         7.45098039e-01, -5.26442308e-01, -4.19287212e-03],\n",
       "       [ 2.00000000e-01,  1.64963963e+00,  5.25007234e+00, ...,\n",
       "         1.12044818e-02,  2.44471154e+00, -1.18238994e+00],\n",
       "       ...,\n",
       "       [ 0.00000000e+00,  9.77083758e-01,  1.00962226e+00, ...,\n",
       "         2.01680672e-01,  1.52163462e+00, -7.84067086e-01],\n",
       "       [ 8.00000000e-01,  3.93608297e-01,  1.52348950e+00, ...,\n",
       "         6.77871148e-01,  2.09134615e-01, -3.81551363e-01],\n",
       "       [ 8.00000000e-01,  4.36679141e-01,  6.95346249e-01, ...,\n",
       "         4.48179272e-01, -1.29807692e-01, -4.19287212e-03]])"
      ]
     },
     "execution_count": 22,
     "metadata": {},
     "output_type": "execute_result"
    }
   ],
   "source": [
    "from sklearn import preprocessing\n",
    "\n",
    "#scaler = preprocessing.StandardScaler().fit(df)\n",
    "\n",
    "#scaler1 = preprocessing.MinMaxScaler().fit(df)\n",
    "\n",
    "scaler2 = preprocessing.RobustScaler().fit(df)\n",
    "\n",
    "x_scaled = scaler2.transform(df)\n",
    "\n",
    "x_scaled\n",
    "\n",
    "\n"
   ]
  },
  {
   "cell_type": "markdown",
   "metadata": {},
   "source": [
    "## 5. Training and hyperparamter tuning<br>\n",
    "\n"
   ]
  },
  {
   "cell_type": "markdown",
   "metadata": {},
   "source": [
    "### *Number of clusters*\n",
    "Use Dendograms to specify the optimum number of clusters\n",
    "- Compare how changing linkage criteria or distance function would affect the optimum number of clusters\n",
    "- you can use silhouette_score or any other evalution method to help you determine the optimum number of clusters\n"
   ]
  },
  {
   "cell_type": "code",
   "execution_count": 23,
   "metadata": {},
   "outputs": [
    {
     "data": {
      "image/png": "[encoded data removed]",
      "text/plain": [
       "<Figure size 1080x1440 with 1 Axes>"
      ]
     },
     "metadata": {
      "needs_background": "light"
     },
     "output_type": "display_data"
    }
   ],
   "source": [
    "import scipy.cluster.hierarchy as shc\n",
    "\n",
    "plt.figure(figsize=(15, 20))\n",
    "plt.title(\"Counters Dendograms\")\n",
    "dend = shc.dendrogram(shc.linkage(y=x_scaled , method='complete', metric='euclidean'),orientation='top')"
   ]
  },
  {
   "cell_type": "markdown",
   "metadata": {},
   "source": [
    "**i try method (average , complete , single  ,centroid)**<br>\n",
    "**results from average and complete was close and logical (3 classes)**<br>\n",
    "**single was very different (5 or 6 classes)**<br>\n",
    "**centroid was close to average (4 classes)**<br>\n"
   ]
  },
  {
   "cell_type": "markdown",
   "metadata": {},
   "source": [
    "# Model training and assesment"
   ]
  },
  {
   "cell_type": "code",
   "execution_count": 24,
   "metadata": {},
   "outputs": [
    {
     "name": "stdout",
     "output_type": "stream",
     "text": [
      "0.8878974120359692\n"
     ]
    }
   ],
   "source": [
    "#training\n",
    "from sklearn.cluster import AgglomerativeClustering\n",
    "\n",
    "model = AgglomerativeClustering(n_clusters = 2 ,linkage = 'average').fit(x_scaled)\n",
    "\n",
    "from sklearn.metrics import silhouette_score\n",
    "\n",
    "score = silhouette_score(x_scaled , model.labels_)\n",
    "\n",
    "print(score)\n"
   ]
  },
  {
   "cell_type": "markdown",
   "metadata": {},
   "source": [
    "after trying different number of clusters from 2 to 10 <br>\n",
    "i found 3 is the logical number and also give a good score <br>\n",
    "\n",
    "then i try to change the linkage in model with thw same number of clusters <br>\n",
    "average -> 0.887 <br>\n",
    "single -> 0.887 <br>\n",
    "complete -> 0.887 <br>\n",
    "ward -> 0.86 <br>\n",
    "\n",
    "So i decided to choose (3) clusters and (average) linkage \n",
    "\n"
   ]
  },
  {
   "cell_type": "markdown",
   "metadata": {},
   "source": [
    "# DBSCAN"
   ]
  },
  {
   "cell_type": "code",
   "execution_count": 25,
   "metadata": {},
   "outputs": [
    {
     "data": {
      "image/png": "[encoded data removed]",
      "text/plain": [
       "<Figure size 640x480 with 1 Axes>"
      ]
     },
     "metadata": {},
     "output_type": "display_data"
    },
    {
     "data": {
      "text/plain": [
       "<ggplot: (99451586145)>"
      ]
     },
     "execution_count": 25,
     "metadata": {},
     "output_type": "execute_result"
    }
   ],
   "source": [
    "from sklearn.neighbors import NearestNeighbors\n",
    "from plotnine import *\n",
    "from sklearn.cluster import DBSCAN\n",
    "\n",
    "mins = 3\n",
    "nn = NearestNeighbors(mins + 1)\n",
    "\n",
    "nn.fit(x_scaled)\n",
    "\n",
    "distances, neighbors = nn.kneighbors(x_scaled)\n",
    "\n",
    "distances = np.sort(distances[:, mins], axis = 0)\n",
    "\n",
    "#plot the distances\n",
    "distances_df = pd.DataFrame({\"distances\": distances,\n",
    "                             \"index\": list(range(0,len(distances)))})\n",
    "plt = (ggplot(distances_df, aes(x = \"index\", y = \"distances\")) +\n",
    " geom_line(color = \"white\", size = 2) + theme_minimal() +\n",
    " labs(title = \"Elbow Method for Choosing eps\") +\n",
    " theme(panel_grid_minor = element_blank(),\n",
    "      rect = element_rect(fill = \"#202124ff\"),\n",
    "      axis_text = element_text(color = \"white\"),\n",
    "      axis_title = element_text(color = \"white\"),\n",
    "      plot_title = element_text(color = \"white\"),\n",
    "      panel_border = element_line(color = \"darkgray\"),\n",
    "      plot_background = element_rect(fill = \"#202124ff\")\n",
    "      ))\n",
    "ggsave(plot=plt, filename='elbow.png', dpi=300)\n",
    "\n",
    "plt\n"
   ]
  },
  {
   "cell_type": "code",
   "execution_count": 26,
   "metadata": {},
   "outputs": [
    {
     "name": "stdout",
     "output_type": "stream",
     "text": [
      "{0, 1, -1}\n",
      "25\n",
      "0.4248951645863872\n"
     ]
    }
   ],
   "source": [
    "db1 = DBSCAN(eps = 5.27 , min_samples = 3).fit(x_scaled)\n",
    "\n",
    "print(set(db1.labels_))\n",
    "print(sum(db1.labels_ == -1))\n",
    "\n",
    "score1 = silhouette_score(x_scaled[ db1.labels_ != -1], db1.labels_[ db1.labels_!=-1])\n",
    "print(score1)"
   ]
  },
  {
   "cell_type": "markdown",
   "metadata": {},
   "source": [
    "i try so many values for min samples and epsilon to reach the minimum noise and good score at the same time <br>\n",
    "the best score was 0.42 with eps = 5.27 and min_sanples = 3 and only 2 clusters <br> "
   ]
  },
  {
   "cell_type": "markdown",
   "metadata": {},
   "source": [
    "# KMeans"
   ]
  },
  {
   "cell_type": "code",
   "execution_count": 27,
   "metadata": {},
   "outputs": [
    {
     "data": {
      "image/png": "[encoded data removed]",
      "text/plain": [
       "<Figure size 432x288 with 1 Axes>"
      ]
     },
     "metadata": {
      "needs_background": "light"
     },
     "output_type": "display_data"
    }
   ],
   "source": [
    "from sklearn.cluster import KMeans\n",
    "from scipy.spatial.distance import cdist\n",
    "\n",
    "distortions = []\n",
    "inertias = []\n",
    "mapping1 = {}\n",
    "mapping2 = {}\n",
    "K = range(1, 10)\n",
    " \n",
    "for k in K:\n",
    "    # Building and fitting the model\n",
    "    kmeanModel = KMeans(n_clusters=k).fit(x_scaled)\n",
    "    \n",
    " \n",
    "    distortions.append(sum(np.min(cdist(x_scaled, kmeanModel.cluster_centers_,\n",
    "                                        'euclidean'), axis=1)) / x_scaled.shape[0])\n",
    "for key, val in mapping1.items():\n",
    "    print(f'{key} : {val}')\n",
    "\n",
    "import matplotlib.pyplot as plt1\n",
    "\n",
    "plt1.plot(K, distortions, 'bx-')\n",
    "plt1.xlabel('Values of K')\n",
    "plt1.ylabel('Distortion')\n",
    "plt1.title('The Elbow Method using Distortion')\n",
    "plt1.show()\n"
   ]
  },
  {
   "cell_type": "code",
   "execution_count": 28,
   "metadata": {},
   "outputs": [
    {
     "name": "stdout",
     "output_type": "stream",
     "text": [
      "0.8878974120359692\n"
     ]
    }
   ],
   "source": [
    "from sklearn.cluster import KMeans\n",
    "km = KMeans(2).fit(x_scaled)\n",
    "score2 = silhouette_score(x_scaled, km.labels_)\n",
    "print(score2)"
   ]
  },
  {
   "cell_type": "markdown",
   "metadata": {},
   "source": [
    "Kmeans reach almost the same score (0.86) of the hierarchical model with the same number of clusters(3) <br>\n",
    "\n",
    "changing the number of clusters (2) improved th score (0.88)"
   ]
  },
  {
   "cell_type": "markdown",
   "metadata": {},
   "source": [
    "## Conclusion"
   ]
  },
  {
   "cell_type": "markdown",
   "metadata": {},
   "source": [
    "after testing the 3 models and trying to find the best parameters <br>\n",
    "with the same number of clusters (3) <br>\n",
    "\n"
   ]
  },
  {
   "cell_type": "markdown",
   "metadata": {},
   "source": [
    "## Hierarchical -> 0.88\n",
    "## KMeans -> 0.88\n",
    "## DBSCAN -> 0.42\n"
   ]
  },
  {
   "cell_type": "markdown",
   "metadata": {},
   "source": [
    "## 6. <a name=\"6\">improvement ideas</a>\n"
   ]
  },
  {
   "cell_type": "markdown",
   "metadata": {},
   "source": [
    "- Try to use PCA to reduce the number of features and compare how this will affect the clustring process\n",
    "- Try to run your code again but with different tranformation technique\n",
    "- Implement gap statistics method and use it as evaluation metric and compare the result with what you did before https://www.datanovia.com/en/lessons/determining-the-optimal-number-of-clusters-3-must-know-methods/#gap-statistic-method "
   ]
  },
  {
   "cell_type": "markdown",
   "metadata": {},
   "source": [
    "# Using PCA"
   ]
  },
  {
   "cell_type": "code",
   "execution_count": 29,
   "metadata": {},
   "outputs": [
    {
     "name": "stdout",
     "output_type": "stream",
     "text": [
      "0.8760374533478422\n",
      "[0.46660891 0.22426887 0.18515967]\n"
     ]
    }
   ],
   "source": [
    "from sklearn.decomposition import PCA\n",
    "\n",
    "pca = PCA(n_components=3)\n",
    "x_new = pca.fit_transform(x_scaled)\n",
    "\n",
    "print(pca.explained_variance_ratio_.sum())\n",
    "print(pca.explained_variance_ratio_)"
   ]
  },
  {
   "cell_type": "code",
   "execution_count": 30,
   "metadata": {},
   "outputs": [
    {
     "data": {
      "text/plain": [
       "(227, 3)"
      ]
     },
     "execution_count": 30,
     "metadata": {},
     "output_type": "execute_result"
    }
   ],
   "source": [
    "#check the shape on the new data after running PCA on original X_scaled data\n",
    "x_new.shape"
   ]
  },
  {
   "cell_type": "markdown",
   "metadata": {},
   "source": [
    "to determine the best number of component,I have tried many values from 2 to 10 <br>\n",
    "using only 3 components can explain 0.88 of variance which is acceptable and reduce number of dimensions from 19 to only 3"
   ]
  },
  {
   "cell_type": "markdown",
   "metadata": {},
   "source": [
    "# Test the 3 models again after using PCA"
   ]
  },
  {
   "cell_type": "markdown",
   "metadata": {},
   "source": [
    "## KMeans"
   ]
  },
  {
   "cell_type": "code",
   "execution_count": 31,
   "metadata": {},
   "outputs": [
    {
     "data": {
      "image/png": "[encoded data removed]",
      "text/plain": [
       "<Figure size 432x288 with 1 Axes>"
      ]
     },
     "metadata": {
      "needs_background": "light"
     },
     "output_type": "display_data"
    }
   ],
   "source": [
    "from sklearn.cluster import KMeans\n",
    "from scipy.spatial.distance import cdist\n",
    "\n",
    "distortions = []\n",
    "inertias = []\n",
    "mapping1 = {}\n",
    "mapping2 = {}\n",
    "K = range(1, 10)\n",
    " \n",
    "for k in K:\n",
    "    # Building and fitting the model\n",
    "    kmeanModel = KMeans(n_clusters=k).fit(x_new)\n",
    "    \n",
    " \n",
    "    distortions.append(sum(np.min(cdist(x_new, kmeanModel.cluster_centers_,\n",
    "                                        'euclidean'), axis=1)) / x_new.shape[0])\n",
    "for key, val in mapping1.items():\n",
    "    print(f'{key} : {val}')\n",
    "\n",
    "import matplotlib.pyplot as plt1\n",
    "\n",
    "plt1.plot(K, distortions, 'bx-')\n",
    "plt1.xlabel('Values of K')\n",
    "plt1.ylabel('Distortion')\n",
    "plt1.title('The Elbow Method using Distortion')\n",
    "plt1.show()\n",
    "\n"
   ]
  },
  {
   "cell_type": "code",
   "execution_count": 32,
   "metadata": {},
   "outputs": [
    {
     "name": "stdout",
     "output_type": "stream",
     "text": [
      "0.9233507647113335\n"
     ]
    }
   ],
   "source": [
    "from sklearn.cluster import KMeans\n",
    "km = KMeans(n_clusters = 2 , random_state = 42).fit(x_new)\n",
    "\n",
    "score2 = silhouette_score(x_new, km.labels_)\n",
    "print(score2)"
   ]
  },
  {
   "cell_type": "markdown",
   "metadata": {},
   "source": [
    "PCA improved the score of KMeans from 0.86 to 0.90 with the same number of clusters(3) <br>\n",
    "After changing number of clusters to (2) -> score increased to 0.92 but i always use 3 clusters to compare between models <br>\n",
    "\n"
   ]
  },
  {
   "cell_type": "markdown",
   "metadata": {},
   "source": [
    "## Hierarchical"
   ]
  },
  {
   "cell_type": "code",
   "execution_count": 33,
   "metadata": {},
   "outputs": [
    {
     "data": {
      "image/png": "[encoded data removed]",
      "text/plain": [
       "<Figure size 1080x1440 with 1 Axes>"
      ]
     },
     "metadata": {
      "needs_background": "light"
     },
     "output_type": "display_data"
    }
   ],
   "source": [
    "import scipy.cluster.hierarchy as shc\n",
    "import matplotlib.pyplot as plt1\n",
    "\n",
    "plt1.figure(figsize=(15, 20))\n",
    "plt1.title(\"Counters Dendograms\")\n",
    "dend = shc.dendrogram(shc.linkage(y=x_new , method='average', metric='euclidean'),orientation='top') #fill y with your dataframe\n",
    "                                                                                      #and method with linkage criteria\n",
    "                                                                                      #and metric with distance function"
   ]
  },
  {
   "cell_type": "code",
   "execution_count": 34,
   "metadata": {},
   "outputs": [
    {
     "name": "stdout",
     "output_type": "stream",
     "text": [
      "0.9233507647113335\n"
     ]
    }
   ],
   "source": [
    "#training\n",
    "from sklearn.cluster import AgglomerativeClustering\n",
    "\n",
    "model = AgglomerativeClustering(n_clusters = 2 ,linkage = 'average').fit(x_new)\n",
    "\n",
    "from sklearn.metrics import silhouette_score\n",
    "\n",
    "score = silhouette_score(x_new , model.labels_)\n",
    "\n",
    "print(score)\n"
   ]
  },
  {
   "cell_type": "markdown",
   "metadata": {},
   "source": [
    "PCA improved the score of Hierarchical from 0.87 to 0.91 with the same number of clusters(3) <br>\n",
    "After changing number of clusters to (2) -> score increased to 0.92 but i always use 3 clusters to compare between models <br>\n",
    "\n",
    "\n"
   ]
  },
  {
   "cell_type": "code",
   "execution_count": null,
   "metadata": {},
   "outputs": [],
   "source": []
  },
  {
   "cell_type": "markdown",
   "metadata": {},
   "source": [
    "## DBSCAN"
   ]
  },
  {
   "cell_type": "code",
   "execution_count": 35,
   "metadata": {},
   "outputs": [
    {
     "data": {
      "image/png": "[encoded data removed]",
      "text/plain": [
       "<Figure size 640x480 with 1 Axes>"
      ]
     },
     "metadata": {},
     "output_type": "display_data"
    },
    {
     "data": {
      "text/plain": [
       "<ggplot: (99452316019)>"
      ]
     },
     "execution_count": 35,
     "metadata": {},
     "output_type": "execute_result"
    }
   ],
   "source": [
    "from sklearn.neighbors import NearestNeighbors\n",
    "from plotnine import *\n",
    "from sklearn.cluster import DBSCAN\n",
    "\n",
    "mins = 3\n",
    "nn = NearestNeighbors(mins + 1)\n",
    "\n",
    "nn.fit(x_new)\n",
    "\n",
    "distances, neighbors = nn.kneighbors(x_new)\n",
    "\n",
    "distances = np.sort(distances[:, mins], axis = 0)\n",
    "\n",
    "#plot the distances\n",
    "distances_df = pd.DataFrame({\"distances\": distances,\n",
    "                             \"index\": list(range(0,len(distances)))})\n",
    "plt = (ggplot(distances_df, aes(x = \"index\", y = \"distances\")) +\n",
    " geom_line(color = \"white\", size = 2) + theme_minimal() +\n",
    " labs(title = \"Elbow Method for Choosing eps\") +\n",
    " theme(panel_grid_minor = element_blank(),\n",
    "      rect = element_rect(fill = \"#202124ff\"),\n",
    "      axis_text = element_text(color = \"white\"),\n",
    "      axis_title = element_text(color = \"white\"),\n",
    "      plot_title = element_text(color = \"white\"),\n",
    "      panel_border = element_line(color = \"darkgray\"),\n",
    "      plot_background = element_rect(fill = \"#202124ff\")\n",
    "      ))\n",
    "ggsave(plot=plt, filename='elbow.png', dpi=300)\n",
    "\n",
    "plt\n"
   ]
  },
  {
   "cell_type": "code",
   "execution_count": 36,
   "metadata": {},
   "outputs": [
    {
     "name": "stdout",
     "output_type": "stream",
     "text": [
      "{0, 1, -1}\n",
      "13\n",
      "0.8030334887885595\n"
     ]
    }
   ],
   "source": [
    "db1 = DBSCAN(eps = 4.84 , min_samples = 3).fit(x_new)\n",
    "\n",
    "print(set(db1.labels_))\n",
    "print(sum(db1.labels_ == -1))\n",
    "\n",
    "score1 = silhouette_score(x_new[ db1.labels_ != -1], db1.labels_[ db1.labels_!=-1])\n",
    "print(score1)"
   ]
  },
  {
   "cell_type": "markdown",
   "metadata": {},
   "source": [
    "PCA improved the score of DBSCAN from  only 0.42 to 0.80 with 2 clusters<br>\n",
    "Also the noise decreased from 25 to only 13  <br>\n",
    "\n"
   ]
  },
  {
   "cell_type": "markdown",
   "metadata": {},
   "source": [
    "# Conclusion of using PCA"
   ]
  },
  {
   "cell_type": "markdown",
   "metadata": {},
   "source": [
    "Using PCA with number of components improved the score of the 3 models <br>\n",
    "\n",
    "KMeans changed from 0.86 to 0.92 <br>\n",
    "Hierarchical changed from 0.87 to 0.92 <br>\n",
    "DBSCAN changed from 0.42 to 0.80 <br>"
   ]
  },
  {
   "cell_type": "markdown",
   "metadata": {},
   "source": [
    "# Try different transformation techniques"
   ]
  },
  {
   "cell_type": "markdown",
   "metadata": {},
   "source": [
    "To scale/normalize the data,I have used 3 methods <br>\n",
    "1) the best preprocessing was by using RobustScaler due to it can handle outliers <br>\n",
    "2) then StandardScaler came in second place score less than RobustScaler <br>\n",
    "3) At the end MinMaxScaler came with the lowest score Especially with DBSCAN"
   ]
  },
  {
   "cell_type": "code",
   "execution_count": null,
   "metadata": {},
   "outputs": [],
   "source": []
  }
 ],
 "metadata": {
  "kernelspec": {
   "display_name": "Python 3",
   "language": "python",
   "name": "python3"
  },
  "language_info": {
   "codemirror_mode": {
    "name": "ipython",
    "version": 3
   },
   "file_extension": ".py",
   "mimetype": "text/x-python",
   "name": "python",
   "nbconvert_exporter": "python",
   "pygments_lexer": "ipython3",
   "version": "3.8.5"
  }
 },
 "nbformat": 4,
 "nbformat_minor": 2
}
